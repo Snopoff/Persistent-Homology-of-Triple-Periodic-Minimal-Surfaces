{
 "cells": [
  {
   "cell_type": "markdown",
   "metadata": {},
   "source": [
    "# Porosity"
   ]
  },
  {
   "cell_type": "code",
   "execution_count": 5,
   "metadata": {},
   "outputs": [],
   "source": [
    "import pandas as pd\n",
    "\n",
    "porosity_df = pd.read_csv('linear_dependency.csv')"
   ]
  },
  {
   "cell_type": "code",
   "execution_count": 8,
   "metadata": {},
   "outputs": [],
   "source": [
    "from sklearn.preprocessing import PolynomialFeatures\n",
    "from sklearn.model_selection import train_test_split\n",
    "from sklearn.linear_model import LinearRegression\n",
    "from sklearn.metrics import mean_squared_error as mse\n",
    "\n",
    "import numpy as np"
   ]
  },
  {
   "cell_type": "code",
   "execution_count": 9,
   "metadata": {},
   "outputs": [
    {
     "data": {
      "text/plain": [
       "((15, 1), (5, 1), (15,), (5,))"
      ]
     },
     "execution_count": 9,
     "metadata": {},
     "output_type": "execute_result"
    }
   ],
   "source": [
    "x = porosity_df['d_param'].values.reshape(-1,1)\n",
    "y = porosity_df['porosity_Schwarz_p'].values\n",
    "\n",
    "x_train, y_train, x_test, y_test = train_test_split(x, y)\n",
    "\n",
    "x_train.shape, y_train.shape, x_test.shape, y_test.shape"
   ]
  },
  {
   "cell_type": "code",
   "execution_count": 17,
   "metadata": {},
   "outputs": [
    {
     "name": "stdout",
     "output_type": "stream",
     "text": [
      "(20, 4)\n",
      "[ 0.         -0.06816784  0.04984266  0.01013945]\n"
     ]
    }
   ],
   "source": [
    "degree = 3\n",
    "\n",
    "x_poly = PolynomialFeatures(degree=degree).fit_transform(x)\n",
    "print(x_poly.shape)\n",
    "linear = LinearRegression()\n",
    "linear.fit(x_poly, y)\n",
    "y_pred = linear.predict(x_poly)\n",
    "mse(y, y_pred)\n",
    "print(linear.coef_)"
   ]
  },
  {
   "cell_type": "code",
   "execution_count": 18,
   "metadata": {},
   "outputs": [],
   "source": [
    "import matplotlib.pyplot as plt"
   ]
  },
  {
   "cell_type": "code",
   "execution_count": 19,
   "metadata": {},
   "outputs": [
    {
     "data": {
      "text/plain": [
       "[<matplotlib.lines.Line2D at 0x14f8fa810>]"
      ]
     },
     "execution_count": 19,
     "metadata": {},
     "output_type": "execute_result"
    },
    {
     "data": {
      "image/png": "[encoded data removed]",
      "text/plain": [
       "<Figure size 640x480 with 1 Axes>"
      ]
     },
     "metadata": {},
     "output_type": "display_data"
    }
   ],
   "source": [
    "plt.plot(x, y_pred, c='red')\n",
    "plt.plot(x, y, c='blue')"
   ]
  },
  {
   "cell_type": "markdown",
   "metadata": {},
   "source": [
    "# Entropy"
   ]
  },
  {
   "cell_type": "code",
   "execution_count": 130,
   "metadata": {},
   "outputs": [
    {
     "data": {
      "text/plain": [
       "'\\n! NEED TO ADD PLOT FUNCTIONAL\\n'"
      ]
     },
     "execution_count": 130,
     "metadata": {},
     "output_type": "execute_result"
    }
   ],
   "source": [
    "\"\"\"\n",
    "! NEED TO ADD PLOT FUNCTIONAL\n",
    "\"\"\""
   ]
  },
  {
   "cell_type": "code",
   "execution_count": 1,
   "metadata": {},
   "outputs": [],
   "source": [
    "import pandas as pd\n",
    "\n",
    "from sklearn.linear_model import LinearRegression\n",
    "from sklearn.preprocessing import PolynomialFeatures\n",
    "from sklearn.metrics import mean_squared_error, r2_score\n",
    "from sklearn.model_selection import train_test_split\n",
    "from sklearn.pipeline import Pipeline\n",
    "from sklearn.model_selection import KFold\n",
    "\n",
    "import matplotlib.pyplot as plt\n",
    "\n",
    "import numpy as np\n",
    "\n",
    "entropy_df = pd.read_csv('entropy.csv')"
   ]
  },
  {
   "cell_type": "markdown",
   "metadata": {},
   "source": [
    "- Schwarz:\n",
    "\n",
    "        1-entropy is nice: `degree=3` or `degree=4`\n",
    "        2-entropy is bad.\n",
    "- Gyroid:\n",
    "\n",
    "        1-entropy is nice: `degree 2,3,4`\n",
    "        2-entropy is bad too"
   ]
  },
  {
   "cell_type": "code",
   "execution_count": null,
   "metadata": {},
   "outputs": [],
   "source": [
    "x_train, y_train, x_test, y_test = train_test_split(x, y)\n",
    "\n",
    "x_train.shape, y_train.shape, x_test.shape, y_test.shape"
   ]
  },
  {
   "cell_type": "markdown",
   "metadata": {},
   "source": [
    "## Polynomial"
   ]
  },
  {
   "cell_type": "code",
   "execution_count": 16,
   "metadata": {},
   "outputs": [],
   "source": [
    "class PolynomialModel:\n",
    "    def __init__(self, degree=4, test_size=0.33, random_state=42, round_for_poly=0.01):\n",
    "        self.degree = degree\n",
    "        self.model = Pipeline([('features', PolynomialFeatures(degree=degree)), \n",
    "                               ('linear', LinearRegression())])\n",
    "        self.test_size = test_size\n",
    "        self.random_state = random_state\n",
    "        self.round_for_poly = round_for_poly\n",
    "\n",
    "    def fit_eval(self, X_train, y_train, X_test=None, y_test=None):\n",
    "        if X_test is None or y_test is None:\n",
    "            X_test = X_train\n",
    "            y_test = y_train\n",
    "\n",
    "        self.model.fit(X_train, y_train)\n",
    "        r_2_test = self.model.score(X_test, y_test)\n",
    "        r_2_train = self.model.score(X_train, y_train)\n",
    "        y_pred = self.model.predict(X_test)\n",
    "        y_hat = self.model.predict(X_train)\n",
    "        mse_test = mean_squared_error(y_test, y_pred)\n",
    "        mse_train = mean_squared_error(y_train, y_hat)\n",
    "        return {\"r2_test\": r_2_test, \"r2_train\": r_2_train, \"mse_test\": mse_test, \"mse_train\": mse_train}\n",
    "    \n",
    "    def return_formula(self):\n",
    "        variables = self.model['features'].get_feature_names_out(['x']).tolist()\n",
    "        coeffs = self.model['linear'].coef_\n",
    "        coeffs_str = list(map(lambda x: str(round(x,2)), coeffs))\n",
    "        polynomial = \" + \".join([coef + var for coef, var in \n",
    "                                 zip(coeffs_str, variables) if np.abs(float(coef)) > self.round_for_poly])\n",
    "        return f\"{self.model['linear'].intercept_:.2f} + \" + polynomial"
   ]
  },
  {
   "cell_type": "code",
   "execution_count": 38,
   "metadata": {},
   "outputs": [],
   "source": [
    "class Experiments():\n",
    "    def __init__(self, model_class, data, n_splits=4):\n",
    "        self.model_class = model_class\n",
    "        self.data = data\n",
    "        self.n_splits=n_splits\n",
    "\n",
    "    def _choose_values_from_list_of_dicts(self, list_of_dicts, key):\n",
    "        result = [d[key] for d in list_of_dicts]\n",
    "        return result\n",
    "\n",
    "    def run_experiments(self, degrees = range(1,10), *args, **kwargs):\n",
    "        kf = KFold(n_splits=self.n_splits)\n",
    "        self.results = {}\n",
    "        for deg in degrees:\n",
    "            print(f\"Current degree is {deg}\")\n",
    "            self.model = self.model_class(degree=deg, *args, **kwargs)\n",
    "            experiment_results_list = [None] * self.n_splits\n",
    "            \n",
    "            for i, (train_index, test_index) in enumerate(kf.split(self.data['x'])):\n",
    "                print(f\"Fold {i}\")\n",
    "                X_train, y_train = self.data['x'][train_index,:], self.data['y'][train_index]\n",
    "                X_test, y_test = self.data['x'][test_index,:], self.data['y'][test_index]\n",
    "                experiment_results_for_fold = self.model.fit_eval(X_train, y_train, X_test, y_test)\n",
    "                experiment_results_list[i] = experiment_results_for_fold\n",
    "\n",
    "            experiment_results = {\n",
    "                \"r2_test_min\": min(self._choose_values_from_list_of_dicts(experiment_results_list, \"r2_test\")),\n",
    "                \"r2_test_mean\": np.mean(self._choose_values_from_list_of_dicts(experiment_results_list, \"r2_test\")),\n",
    "                \"r2_test_max\": max(self._choose_values_from_list_of_dicts(experiment_results_list, \"r2_test\")),\n",
    "\n",
    "                \"r2_train_min\": min(self._choose_values_from_list_of_dicts(experiment_results_list, \"r2_train\")),\n",
    "                \"r2_train_mean\": np.mean(self._choose_values_from_list_of_dicts(experiment_results_list, \"r2_train\")),\n",
    "                \"r2_train_max\": max(self._choose_values_from_list_of_dicts(experiment_results_list, \"r2_train\")),\n",
    "\n",
    "                \"mse_test_min\": min(self._choose_values_from_list_of_dicts(experiment_results_list, \"mse_test\")),\n",
    "                \"mse_test_mean\": np.mean(self._choose_values_from_list_of_dicts(experiment_results_list, \"mse_test\")),\n",
    "                \"mse_test_max\": max(self._choose_values_from_list_of_dicts(experiment_results_list, \"mse_test\")),\n",
    "\n",
    "                \"mse_train_min\": min(self._choose_values_from_list_of_dicts(experiment_results_list, \"mse_train\")),\n",
    "                \"mse_train_mean\": np.mean(self._choose_values_from_list_of_dicts(experiment_results_list, \"mse_train\")),\n",
    "                \"mse_train_max\": max(self._choose_values_from_list_of_dicts(experiment_results_list, \"mse_train\")),\n",
    "            }\n",
    "\n",
    "\n",
    "            self.results[deg] = experiment_results\n",
    "        self.results_df = pd.DataFrame(self.results).T\n",
    "        self.results_df = self.results_df.reset_index().rename(columns={\"index\":\"degree\"})\n",
    "\n",
    "        return self.results_df"
   ]
  },
  {
   "cell_type": "code",
   "execution_count": 56,
   "metadata": {},
   "outputs": [
    {
     "name": "stdout",
     "output_type": "stream",
     "text": [
      "Current degree is 1\n",
      "Fold 0\n",
      "Fold 1\n",
      "Fold 2\n",
      "Fold 3\n",
      "Current degree is 2\n",
      "Fold 0\n",
      "Fold 1\n",
      "Fold 2\n",
      "Fold 3\n",
      "Current degree is 3\n",
      "Fold 0\n",
      "Fold 1\n",
      "Fold 2\n",
      "Fold 3\n",
      "Current degree is 4\n",
      "Fold 0\n",
      "Fold 1\n",
      "Fold 2\n",
      "Fold 3\n",
      "   degree  r2_test_min  r2_test_mean  r2_test_max  r2_train_min  \\\n",
      "0       1    -4.643708     -0.647551     0.866944      0.962102   \n",
      "1       2    -6.978693     -1.255286     0.939973      0.993374   \n",
      "2       3    -0.124599      0.635253     0.977002      0.999043   \n",
      "3       4    -0.350729      0.356153     0.995201      0.999253   \n",
      "\n",
      "   r2_train_mean  r2_train_max  mse_test_min  mse_test_mean  mse_test_max  \\\n",
      "0       0.975095      0.998666      0.008531       0.422318      1.329875   \n",
      "1       0.995337      0.999160      0.037116       0.318648      0.950537   \n",
      "2       0.999249      0.999609      0.001517       0.182526      0.677724   \n",
      "3       0.999627      0.999835      0.002702       0.805892      3.181422   \n",
      "\n",
      "   mse_train_min  mse_train_mean  mse_train_max  \n",
      "0       0.001400        0.129597       0.195016  \n",
      "1       0.000882        0.024226       0.036790  \n",
      "2       0.000859        0.003069       0.005313  \n",
      "3       0.000784        0.001166       0.001523  \n",
      "Current degree is 1\n",
      "Fold 0\n",
      "Fold 1\n",
      "Fold 2\n",
      "Fold 3\n",
      "Current degree is 2\n",
      "Fold 0\n",
      "Fold 1\n",
      "Fold 2\n",
      "Fold 3\n",
      "Current degree is 3\n",
      "Fold 0\n",
      "Fold 1\n",
      "Fold 2\n",
      "Fold 3\n",
      "Current degree is 4\n",
      "Fold 0\n",
      "Fold 1\n",
      "Fold 2\n",
      "Fold 3\n"
     ]
    },
    {
     "data": {
      "text/plain": [
       "<Axes: title={'center': 'Gyroid'}, xlabel='degree', ylabel='MSE'>"
      ]
     },
     "execution_count": 56,
     "metadata": {},
     "output_type": "execute_result"
    },
    {
     "data": {
      "image/png": "[encoded data removed]",
      "text/plain": [
       "<Figure size 640x480 with 1 Axes>"
      ]
     },
     "metadata": {},
     "output_type": "display_data"
    },
    {
     "data": {
      "image/png": "[encoded data removed]",
      "text/plain": [
       "<Figure size 640x480 with 1 Axes>"
      ]
     },
     "metadata": {},
     "output_type": "display_data"
    }
   ],
   "source": [
    "x = entropy_df['d_param'].values.reshape(-1,1)\n",
    "data_schwarz = {'x': x, 'y': entropy_df['Schwarz'].values}\n",
    "data_gyroid = {'x':x, 'y': entropy_df['Gyroid'].values}\n",
    "\n",
    "MAX_DEG_POLYNOMIAL = 5\n",
    "\n",
    "schwarz_polynomial_experiments = Experiments(PolynomialModel, data_schwarz)\n",
    "schwarz_polynomial_metrics = schwarz_polynomial_experiments.run_experiments(degrees=range(1,MAX_DEG_POLYNOMIAL))\n",
    "print(schwarz_polynomial_metrics)\n",
    "schwarz_polynomial_experiments.results_df.plot(\"degree\", \"mse_test_max\", ylabel='MSE', title=\"Schwarz\")\n",
    "\n",
    "gyroid_polynomial_experiments = Experiments(PolynomialModel, data_gyroid)\n",
    "_ = gyroid_polynomial_experiments.run_experiments(degrees=range(1, MAX_DEG_POLYNOMIAL))\n",
    "gyroid_polynomial_experiments.results_df.plot(\"degree\", \"mse_test_max\", ylabel='MSE', title=\"Gyroid\")"
   ]
  },
  {
   "cell_type": "code",
   "execution_count": 57,
   "metadata": {},
   "outputs": [
    {
     "data": {
      "text/html": [
       "<div>\n",
       "<style scoped>\n",
       "    .dataframe tbody tr th:only-of-type {\n",
       "        vertical-align: middle;\n",
       "    }\n",
       "\n",
       "    .dataframe tbody tr th {\n",
       "        vertical-align: top;\n",
       "    }\n",
       "\n",
       "    .dataframe thead th {\n",
       "        text-align: right;\n",
       "    }\n",
       "</style>\n",
       "<table border=\"1\" class=\"dataframe\">\n",
       "  <thead>\n",
       "    <tr style=\"text-align: right;\">\n",
       "      <th></th>\n",
       "      <th>degree</th>\n",
       "      <th>r2_test_min</th>\n",
       "      <th>r2_test_mean</th>\n",
       "      <th>r2_test_max</th>\n",
       "      <th>r2_train_min</th>\n",
       "      <th>r2_train_mean</th>\n",
       "      <th>r2_train_max</th>\n",
       "      <th>mse_test_min</th>\n",
       "      <th>mse_test_mean</th>\n",
       "      <th>mse_test_max</th>\n",
       "      <th>mse_train_min</th>\n",
       "      <th>mse_train_mean</th>\n",
       "      <th>mse_train_max</th>\n",
       "    </tr>\n",
       "  </thead>\n",
       "  <tbody>\n",
       "    <tr>\n",
       "      <th>0</th>\n",
       "      <td>1</td>\n",
       "      <td>-4.643708</td>\n",
       "      <td>-0.647551</td>\n",
       "      <td>0.866944</td>\n",
       "      <td>0.962102</td>\n",
       "      <td>0.975095</td>\n",
       "      <td>0.998666</td>\n",
       "      <td>0.008531</td>\n",
       "      <td>0.422318</td>\n",
       "      <td>1.329875</td>\n",
       "      <td>0.001400</td>\n",
       "      <td>0.129597</td>\n",
       "      <td>0.195016</td>\n",
       "    </tr>\n",
       "    <tr>\n",
       "      <th>1</th>\n",
       "      <td>2</td>\n",
       "      <td>-6.978693</td>\n",
       "      <td>-1.255286</td>\n",
       "      <td>0.939973</td>\n",
       "      <td>0.993374</td>\n",
       "      <td>0.995337</td>\n",
       "      <td>0.999160</td>\n",
       "      <td>0.037116</td>\n",
       "      <td>0.318648</td>\n",
       "      <td>0.950537</td>\n",
       "      <td>0.000882</td>\n",
       "      <td>0.024226</td>\n",
       "      <td>0.036790</td>\n",
       "    </tr>\n",
       "    <tr>\n",
       "      <th>2</th>\n",
       "      <td>3</td>\n",
       "      <td>-0.124599</td>\n",
       "      <td>0.635253</td>\n",
       "      <td>0.977002</td>\n",
       "      <td>0.999043</td>\n",
       "      <td>0.999249</td>\n",
       "      <td>0.999609</td>\n",
       "      <td>0.001517</td>\n",
       "      <td>0.182526</td>\n",
       "      <td>0.677724</td>\n",
       "      <td>0.000859</td>\n",
       "      <td>0.003069</td>\n",
       "      <td>0.005313</td>\n",
       "    </tr>\n",
       "    <tr>\n",
       "      <th>3</th>\n",
       "      <td>4</td>\n",
       "      <td>-0.350729</td>\n",
       "      <td>0.356153</td>\n",
       "      <td>0.995201</td>\n",
       "      <td>0.999253</td>\n",
       "      <td>0.999627</td>\n",
       "      <td>0.999835</td>\n",
       "      <td>0.002702</td>\n",
       "      <td>0.805892</td>\n",
       "      <td>3.181422</td>\n",
       "      <td>0.000784</td>\n",
       "      <td>0.001166</td>\n",
       "      <td>0.001523</td>\n",
       "    </tr>\n",
       "  </tbody>\n",
       "</table>\n",
       "</div>"
      ],
      "text/plain": [
       "   degree  r2_test_min  r2_test_mean  r2_test_max  r2_train_min  \\\n",
       "0       1    -4.643708     -0.647551     0.866944      0.962102   \n",
       "1       2    -6.978693     -1.255286     0.939973      0.993374   \n",
       "2       3    -0.124599      0.635253     0.977002      0.999043   \n",
       "3       4    -0.350729      0.356153     0.995201      0.999253   \n",
       "\n",
       "   r2_train_mean  r2_train_max  mse_test_min  mse_test_mean  mse_test_max  \\\n",
       "0       0.975095      0.998666      0.008531       0.422318      1.329875   \n",
       "1       0.995337      0.999160      0.037116       0.318648      0.950537   \n",
       "2       0.999249      0.999609      0.001517       0.182526      0.677724   \n",
       "3       0.999627      0.999835      0.002702       0.805892      3.181422   \n",
       "\n",
       "   mse_train_min  mse_train_mean  mse_train_max  \n",
       "0       0.001400        0.129597       0.195016  \n",
       "1       0.000882        0.024226       0.036790  \n",
       "2       0.000859        0.003069       0.005313  \n",
       "3       0.000784        0.001166       0.001523  "
      ]
     },
     "execution_count": 57,
     "metadata": {},
     "output_type": "execute_result"
    }
   ],
   "source": [
    "schwarz_polynomial_experiments.results_df"
   ]
  },
  {
   "cell_type": "code",
   "execution_count": 58,
   "metadata": {},
   "outputs": [
    {
     "data": {
      "text/html": [
       "<div>\n",
       "<style scoped>\n",
       "    .dataframe tbody tr th:only-of-type {\n",
       "        vertical-align: middle;\n",
       "    }\n",
       "\n",
       "    .dataframe tbody tr th {\n",
       "        vertical-align: top;\n",
       "    }\n",
       "\n",
       "    .dataframe thead th {\n",
       "        text-align: right;\n",
       "    }\n",
       "</style>\n",
       "<table border=\"1\" class=\"dataframe\">\n",
       "  <thead>\n",
       "    <tr style=\"text-align: right;\">\n",
       "      <th></th>\n",
       "      <th>degree</th>\n",
       "      <th>r2_test_min</th>\n",
       "      <th>r2_test_mean</th>\n",
       "      <th>r2_test_max</th>\n",
       "      <th>r2_train_min</th>\n",
       "      <th>r2_train_mean</th>\n",
       "      <th>r2_train_max</th>\n",
       "      <th>mse_test_min</th>\n",
       "      <th>mse_test_mean</th>\n",
       "      <th>mse_test_max</th>\n",
       "      <th>mse_train_min</th>\n",
       "      <th>mse_train_mean</th>\n",
       "      <th>mse_train_max</th>\n",
       "    </tr>\n",
       "  </thead>\n",
       "  <tbody>\n",
       "    <tr>\n",
       "      <th>0</th>\n",
       "      <td>1</td>\n",
       "      <td>-26.854001</td>\n",
       "      <td>-13.642059</td>\n",
       "      <td>-0.695801</td>\n",
       "      <td>0.047150</td>\n",
       "      <td>0.258833</td>\n",
       "      <td>0.850801</td>\n",
       "      <td>0.022288</td>\n",
       "      <td>0.501868</td>\n",
       "      <td>1.368198</td>\n",
       "      <td>0.015865</td>\n",
       "      <td>0.074019</td>\n",
       "      <td>0.129841</td>\n",
       "    </tr>\n",
       "    <tr>\n",
       "      <th>1</th>\n",
       "      <td>2</td>\n",
       "      <td>0.822294</td>\n",
       "      <td>0.882060</td>\n",
       "      <td>0.973742</td>\n",
       "      <td>0.993384</td>\n",
       "      <td>0.996459</td>\n",
       "      <td>0.999047</td>\n",
       "      <td>0.000345</td>\n",
       "      <td>0.006210</td>\n",
       "      <td>0.020794</td>\n",
       "      <td>0.000076</td>\n",
       "      <td>0.000360</td>\n",
       "      <td>0.000559</td>\n",
       "    </tr>\n",
       "    <tr>\n",
       "      <th>2</th>\n",
       "      <td>3</td>\n",
       "      <td>0.493407</td>\n",
       "      <td>0.770764</td>\n",
       "      <td>0.981320</td>\n",
       "      <td>0.993588</td>\n",
       "      <td>0.996855</td>\n",
       "      <td>0.999092</td>\n",
       "      <td>0.000246</td>\n",
       "      <td>0.016277</td>\n",
       "      <td>0.059506</td>\n",
       "      <td>0.000072</td>\n",
       "      <td>0.000319</td>\n",
       "      <td>0.000554</td>\n",
       "    </tr>\n",
       "    <tr>\n",
       "      <th>3</th>\n",
       "      <td>4</td>\n",
       "      <td>-17.906153</td>\n",
       "      <td>-3.906216</td>\n",
       "      <td>0.978408</td>\n",
       "      <td>0.998142</td>\n",
       "      <td>0.999050</td>\n",
       "      <td>0.999845</td>\n",
       "      <td>0.000284</td>\n",
       "      <td>0.557624</td>\n",
       "      <td>2.220789</td>\n",
       "      <td>0.000017</td>\n",
       "      <td>0.000099</td>\n",
       "      <td>0.000203</td>\n",
       "    </tr>\n",
       "  </tbody>\n",
       "</table>\n",
       "</div>"
      ],
      "text/plain": [
       "   degree  r2_test_min  r2_test_mean  r2_test_max  r2_train_min  \\\n",
       "0       1   -26.854001    -13.642059    -0.695801      0.047150   \n",
       "1       2     0.822294      0.882060     0.973742      0.993384   \n",
       "2       3     0.493407      0.770764     0.981320      0.993588   \n",
       "3       4   -17.906153     -3.906216     0.978408      0.998142   \n",
       "\n",
       "   r2_train_mean  r2_train_max  mse_test_min  mse_test_mean  mse_test_max  \\\n",
       "0       0.258833      0.850801      0.022288       0.501868      1.368198   \n",
       "1       0.996459      0.999047      0.000345       0.006210      0.020794   \n",
       "2       0.996855      0.999092      0.000246       0.016277      0.059506   \n",
       "3       0.999050      0.999845      0.000284       0.557624      2.220789   \n",
       "\n",
       "   mse_train_min  mse_train_mean  mse_train_max  \n",
       "0       0.015865        0.074019       0.129841  \n",
       "1       0.000076        0.000360       0.000559  \n",
       "2       0.000072        0.000319       0.000554  \n",
       "3       0.000017        0.000099       0.000203  "
      ]
     },
     "execution_count": 58,
     "metadata": {},
     "output_type": "execute_result"
    }
   ],
   "source": [
    "gyroid_polynomial_experiments.results_df"
   ]
  },
  {
   "cell_type": "code",
   "execution_count": 53,
   "metadata": {},
   "outputs": [
    {
     "name": "stdout",
     "output_type": "stream",
     "text": [
      "MSE = 0.148 \t 8.14 + -3.51x\n",
      "MSE = 0.034 \t 7.68 + -3.65x + 1.13x^2\n",
      "MSE = 0.004 \t 7.65 + -2.98x + 1.18x^2 + -1.01x^3\n",
      "MSE = 0.001 \t 7.74 + -2.9x + 0.47x^2 + -1.1x^3 + 0.72x^4\n",
      "MSE = 0.001 \t 7.74 + -2.97x + 0.45x^2 + -0.76x^3 + 0.74x^4 + -0.29x^5\n",
      "MSE = 0.001 \t 7.73 + -2.98x + 0.58x^2 + -0.74x^3 + 0.4x^4 + -0.3x^5 + 0.24x^6\n",
      "MSE = 0.001 \t 7.73 + -3.02x + 0.56x^2 + -0.38x^3 + 0.44x^4 + -1.06x^5 + 0.21x^6 + 0.46x^7\n",
      "MSE = 0.000 \t 7.79 + -2.97x + -0.97x^2 + -0.91x^3 + 8.53x^4 + -0.11x^5 + -13.58x^6 + 0.03x^7 + 7.3x^8\n",
      "MSE = 0.000 \t 7.81 + -3.29x + -1.53x^2 + 3.36x^3 + 11.5x^4 + -16.63x^5 + -18.38x^6 + 23.69x^7 + 9.65x^8 + -11.19x^9\n"
     ]
    }
   ],
   "source": [
    "for deg in range(1,10):\n",
    "    poly_schwarz = PolynomialModel(degree=deg)\n",
    "    metrics = poly_schwarz.fit_eval(data_schwarz['x'], data_schwarz['y'])\n",
    "    print(f\"MSE = {metrics['mse_test']:.3f}\", \"\\t\", poly_schwarz.return_formula())"
   ]
  },
  {
   "cell_type": "code",
   "execution_count": 54,
   "metadata": {},
   "outputs": [
    {
     "name": "stdout",
     "output_type": "stream",
     "text": [
      "MSE = 0.102 \t 8.40 + -0.14x\n",
      "MSE = 0.000 \t 8.83 + -1.06x^2\n",
      "MSE = 0.000 \t 8.83 + -0.03x + -1.06x^2 + 0.03x^3\n",
      "MSE = 0.000 \t 8.86 + -1.28x^2 + 0.22x^4\n",
      "MSE = 0.000 \t 8.86 + -0.04x + -1.29x^2 + 0.18x^3 + 0.23x^4 + -0.15x^5\n",
      "MSE = 0.000 \t 8.88 + -0.03x + -1.59x^2 + 0.13x^3 + 1.03x^4 + -0.12x^5 + -0.55x^6\n",
      "MSE = 0.000 \t 8.88 + -0.06x + -1.6x^2 + 0.39x^3 + 1.06x^4 + -0.67x^5 + -0.56x^6 + 0.33x^7\n",
      "MSE = 0.000 \t 8.90 + -0.04x + -1.94x^2 + 0.27x^3 + 2.83x^4 + -0.46x^5 + -3.58x^6 + 0.24x^7 + 1.59x^8\n",
      "MSE = 0.000 \t 8.90 + -0.1x + -2.03x^2 + 0.97x^3 + 3.32x^4 + -3.16x^5 + -4.36x^6 + 4.1x^7 + 1.98x^8 + -1.83x^9\n"
     ]
    }
   ],
   "source": [
    "for deg in range(1,10):\n",
    "    poly_gyroid = PolynomialModel(degree=deg)\n",
    "    metrics = poly_gyroid.fit_eval(data_gyroid['x'], data_gyroid['y'])\n",
    "    print(f\"MSE = {metrics['mse_test']:.3f}\", \"\\t\", poly_gyroid.return_formula())"
   ]
  },
  {
   "cell_type": "code",
   "execution_count": 44,
   "metadata": {},
   "outputs": [
    {
     "ename": "NameError",
     "evalue": "name 'y_pred' is not defined",
     "output_type": "error",
     "traceback": [
      "\u001b[0;31m---------------------------------------------------------------------------\u001b[0m",
      "\u001b[0;31mNameError\u001b[0m                                 Traceback (most recent call last)",
      "Cell \u001b[0;32mIn[44], line 1\u001b[0m\n\u001b[0;32m----> 1\u001b[0m plt\u001b[38;5;241m.\u001b[39mplot(x, y_pred, c\u001b[38;5;241m=\u001b[39m\u001b[38;5;124m'\u001b[39m\u001b[38;5;124mred\u001b[39m\u001b[38;5;124m'\u001b[39m)\n\u001b[1;32m      2\u001b[0m plt\u001b[38;5;241m.\u001b[39mplot(x, y_schwarz, c\u001b[38;5;241m=\u001b[39m\u001b[38;5;124m'\u001b[39m\u001b[38;5;124mblue\u001b[39m\u001b[38;5;124m'\u001b[39m)\n",
      "\u001b[0;31mNameError\u001b[0m: name 'y_pred' is not defined"
     ]
    }
   ],
   "source": [
    "plt.plot(x, y_pred, c='red')\n",
    "plt.plot(x, y_schwarz, c='blue')"
   ]
  },
  {
   "cell_type": "code",
   "execution_count": 45,
   "metadata": {},
   "outputs": [
    {
     "ename": "NameError",
     "evalue": "name 'y_pred' is not defined",
     "output_type": "error",
     "traceback": [
      "\u001b[0;31m---------------------------------------------------------------------------\u001b[0m",
      "\u001b[0;31mNameError\u001b[0m                                 Traceback (most recent call last)",
      "Cell \u001b[0;32mIn[45], line 1\u001b[0m\n\u001b[0;32m----> 1\u001b[0m plt\u001b[38;5;241m.\u001b[39mplot(x, y_pred, c\u001b[38;5;241m=\u001b[39m\u001b[38;5;124m'\u001b[39m\u001b[38;5;124mred\u001b[39m\u001b[38;5;124m'\u001b[39m)\n\u001b[1;32m      2\u001b[0m plt\u001b[38;5;241m.\u001b[39mplot(x, y_gyroid, c\u001b[38;5;241m=\u001b[39m\u001b[38;5;124m'\u001b[39m\u001b[38;5;124mblue\u001b[39m\u001b[38;5;124m'\u001b[39m)\n",
      "\u001b[0;31mNameError\u001b[0m: name 'y_pred' is not defined"
     ]
    }
   ],
   "source": [
    "plt.plot(x, y_pred, c='red')\n",
    "plt.plot(x, y_gyroid, c='blue')"
   ]
  },
  {
   "cell_type": "markdown",
   "metadata": {},
   "source": [
    "## Exponential"
   ]
  },
  {
   "cell_type": "code",
   "execution_count": 46,
   "metadata": {},
   "outputs": [],
   "source": [
    "class ExponentialModel(PolynomialModel):\n",
    "    def __init__(self, *args, **kwargs):\n",
    "        super().__init__(*args, **kwargs)\n",
    "\n",
    "    def fit_eval(self, X_train, y_train, X_test=None, y_test=None):\n",
    "        if X_test is None or y_test is None:\n",
    "            X_test = X_train\n",
    "            y_test = y_train\n",
    "\n",
    "        self.model.fit(X_train, np.log(y_train))\n",
    "        y_pred = np.exp(self.model.predict(X_test))\n",
    "        y_hat = np.exp(self.model.predict(X_train))\n",
    "        \n",
    "        return {\"r2_test\": r2_score(y_test, y_pred), \n",
    "                \"r2_train\": r2_score(y_train, y_hat), \n",
    "                \"mse_test\": mean_squared_error(y_test, y_pred), \n",
    "                \"mse_train\": mean_squared_error(y_train, y_hat)}\n",
    "\n",
    "\n",
    "    def return_formula(self):\n",
    "        variables = self.model['features'].get_feature_names_out(['x']).tolist()\n",
    "        coeffs = self.model['linear'].coef_\n",
    "        coeffs_str = list(map(lambda x: str(round(x,2)), coeffs))\n",
    "        polynomial = \" + \".join([coef + var for coef, var in \n",
    "                                 zip(coeffs_str, variables) if np.abs(float(coef)) > self.round_for_poly])\n",
    "        return f\"{np.exp(self.model['linear'].intercept_):.2f} * \" + f\"exp({polynomial})\""
   ]
  },
  {
   "cell_type": "code",
   "execution_count": 55,
   "metadata": {},
   "outputs": [
    {
     "name": "stdout",
     "output_type": "stream",
     "text": [
      "Current degree is 1\n",
      "Fold 0\n",
      "Fold 1\n",
      "Fold 2\n",
      "Fold 3\n",
      "Current degree is 2\n",
      "Fold 0\n",
      "Fold 1\n",
      "Fold 2\n",
      "Fold 3\n",
      "Current degree is 3\n",
      "Fold 0\n",
      "Fold 1\n",
      "Fold 2\n",
      "Fold 3\n",
      "Current degree is 4\n",
      "Fold 0\n",
      "Fold 1\n",
      "Fold 2\n",
      "Fold 3\n",
      "Current degree is 5\n",
      "Fold 0\n",
      "Fold 1\n",
      "Fold 2\n",
      "Fold 3\n",
      "Current degree is 6\n",
      "Fold 0\n",
      "Fold 1\n",
      "Fold 2\n",
      "Fold 3\n",
      "   degree   r2_test_min  r2_test_mean  r2_test_max  r2_train_min  \\\n",
      "0       1      0.826900      0.900115     0.982046      0.988280   \n",
      "1       2     -1.500049      0.166261     0.979481      0.995527   \n",
      "2       3      0.830461      0.942500     0.998490      0.999158   \n",
      "3       4     -0.320308      0.586683     0.995349      0.999280   \n",
      "4       5    -22.523723     -5.031788     0.995034      0.999703   \n",
      "5       6 -27300.188094  -6824.334659     0.966654      0.999688   \n",
      "\n",
      "   r2_train_mean  r2_train_max  mse_test_min  mse_test_mean  mse_test_max  \\\n",
      "0       0.992057      0.995637      0.004228       0.048378      0.165316   \n",
      "1       0.996938      0.999105      0.014706       0.352449      1.301886   \n",
      "2       0.999518      0.999825      0.000097       0.101713      0.399321   \n",
      "3       0.999638      0.999847      0.001737       0.781013      3.109771   \n",
      "4       0.999776      0.999834      0.002225      13.857330     55.406302   \n",
      "5       0.999828      0.999967      0.002138   16075.884644  64303.505532   \n",
      "\n",
      "   mse_train_min  mse_train_mean  mse_train_max  \n",
      "0       0.004581        0.036914       0.052376  \n",
      "1       0.000940        0.015635       0.024836  \n",
      "2       0.000884        0.001630       0.002580  \n",
      "3       0.000756        0.001137       0.001523  \n",
      "4       0.000177        0.000996       0.001477  \n",
      "5       0.000082        0.000785       0.001463  \n",
      "Current degree is 1\n",
      "Fold 0\n",
      "Fold 1\n",
      "Fold 2\n",
      "Fold 3\n",
      "Current degree is 2\n",
      "Fold 0\n",
      "Fold 1\n",
      "Fold 2\n",
      "Fold 3\n",
      "Current degree is 3\n",
      "Fold 0\n",
      "Fold 1\n",
      "Fold 2\n",
      "Fold 3\n",
      "Current degree is 4\n",
      "Fold 0\n",
      "Fold 1\n",
      "Fold 2\n",
      "Fold 3\n",
      "Current degree is 5\n",
      "Fold 0\n",
      "Fold 1\n",
      "Fold 2\n",
      "Fold 3\n",
      "Current degree is 6\n",
      "Fold 0\n",
      "Fold 1\n",
      "Fold 2\n",
      "Fold 3\n",
      "   degree  r2_test_min  r2_test_mean  r2_test_max  r2_train_min  \\\n",
      "0       1   -27.068525    -14.134904    -0.838701      0.045987   \n",
      "1       2     0.876702      0.932147     0.987087      0.995038   \n",
      "2       3     0.849552      0.915062     0.991236      0.995062   \n",
      "3       4   -10.537815     -2.039986     0.979960      0.998272   \n",
      "4       5   -22.832947     -5.549877     0.988696      0.998707   \n",
      "5       6  -426.260552   -105.965161     0.975217      0.999460   \n",
      "\n",
      "   r2_train_mean  r2_train_max  mse_test_min  mse_test_mean  mse_test_max  \\\n",
      "0       0.253799      0.837059      0.024166       0.541090      1.515273   \n",
      "1       0.997414      0.999542      0.000170       0.003555      0.011870   \n",
      "2       0.997595      0.999544      0.000115       0.005069      0.017672   \n",
      "3       0.999110      0.999856      0.000263       0.340921      1.355276   \n",
      "4       0.999308      0.999882      0.000149       0.707849      2.799510   \n",
      "5       0.999762      0.999959      0.000326      12.548942     50.187667   \n",
      "\n",
      "   mse_train_min  mse_train_mean  mse_train_max  \n",
      "0       0.017326        0.074559       0.130281  \n",
      "1       0.000036        0.000263       0.000399  \n",
      "2       0.000036        0.000243       0.000394  \n",
      "3       0.000015        0.000092       0.000189  \n",
      "4       0.000009        0.000075       0.000174  \n",
      "5       0.000004        0.000023       0.000043  \n"
     ]
    },
    {
     "data": {
      "text/plain": [
       "<Axes: title={'center': 'Gyroid'}, xlabel='degree', ylabel='MSE'>"
      ]
     },
     "execution_count": 55,
     "metadata": {},
     "output_type": "execute_result"
    },
    {
     "data": {
      "image/png": "[encoded data removed]",
      "text/plain": [
       "<Figure size 640x480 with 1 Axes>"
      ]
     },
     "metadata": {},
     "output_type": "display_data"
    },
    {
     "data": {
      "image/png": "[encoded data removed]",
      "text/plain": [
       "<Figure size 640x480 with 1 Axes>"
      ]
     },
     "metadata": {},
     "output_type": "display_data"
    }
   ],
   "source": [
    "MAX_DEG_EXPONENTIAL = 7\n",
    "\n",
    "schwarz_exponential_experiments = Experiments(ExponentialModel, data_schwarz)\n",
    "schwarz_exponential_metrics = schwarz_exponential_experiments.run_experiments(degrees=range(1,MAX_DEG_EXPONENTIAL))\n",
    "print(schwarz_exponential_metrics)\n",
    "schwarz_exponential_experiments.results_df.plot(\"degree\", \"mse_test_mean\", ylabel='MSE', title=\"Schwarz\")\n",
    "\n",
    "gyroid_exponential_experiments = Experiments(ExponentialModel, data_gyroid)\n",
    "gyroid_exponential_metrics = gyroid_exponential_experiments.run_experiments(degrees=range(1,MAX_DEG_EXPONENTIAL))\n",
    "print(gyroid_exponential_metrics)\n",
    "gyroid_exponential_experiments.results_df.plot(\"degree\", \"mse_test_mean\", ylabel='MSE', title=\"Gyroid\")"
   ]
  },
  {
   "cell_type": "code",
   "execution_count": 48,
   "metadata": {},
   "outputs": [
    {
     "data": {
      "text/html": [
       "<div>\n",
       "<style scoped>\n",
       "    .dataframe tbody tr th:only-of-type {\n",
       "        vertical-align: middle;\n",
       "    }\n",
       "\n",
       "    .dataframe tbody tr th {\n",
       "        vertical-align: top;\n",
       "    }\n",
       "\n",
       "    .dataframe thead th {\n",
       "        text-align: right;\n",
       "    }\n",
       "</style>\n",
       "<table border=\"1\" class=\"dataframe\">\n",
       "  <thead>\n",
       "    <tr style=\"text-align: right;\">\n",
       "      <th></th>\n",
       "      <th>degree</th>\n",
       "      <th>r2_test_min</th>\n",
       "      <th>r2_test_mean</th>\n",
       "      <th>r2_test_max</th>\n",
       "      <th>r2_train_min</th>\n",
       "      <th>r2_train_mean</th>\n",
       "      <th>r2_train_max</th>\n",
       "      <th>mse_test_min</th>\n",
       "      <th>mse_test_mean</th>\n",
       "      <th>mse_test_max</th>\n",
       "      <th>mse_train_min</th>\n",
       "      <th>mse_train_mean</th>\n",
       "      <th>mse_train_max</th>\n",
       "    </tr>\n",
       "  </thead>\n",
       "  <tbody>\n",
       "    <tr>\n",
       "      <th>0</th>\n",
       "      <td>1</td>\n",
       "      <td>0.826900</td>\n",
       "      <td>0.900115</td>\n",
       "      <td>0.982046</td>\n",
       "      <td>0.988280</td>\n",
       "      <td>0.992057</td>\n",
       "      <td>0.995637</td>\n",
       "      <td>0.004228</td>\n",
       "      <td>0.048378</td>\n",
       "      <td>0.165316</td>\n",
       "      <td>0.004581</td>\n",
       "      <td>0.036914</td>\n",
       "      <td>0.052376</td>\n",
       "    </tr>\n",
       "    <tr>\n",
       "      <th>1</th>\n",
       "      <td>2</td>\n",
       "      <td>-1.500049</td>\n",
       "      <td>0.166261</td>\n",
       "      <td>0.979481</td>\n",
       "      <td>0.995527</td>\n",
       "      <td>0.996938</td>\n",
       "      <td>0.999105</td>\n",
       "      <td>0.014706</td>\n",
       "      <td>0.352449</td>\n",
       "      <td>1.301886</td>\n",
       "      <td>0.000940</td>\n",
       "      <td>0.015635</td>\n",
       "      <td>0.024836</td>\n",
       "    </tr>\n",
       "    <tr>\n",
       "      <th>2</th>\n",
       "      <td>3</td>\n",
       "      <td>0.830461</td>\n",
       "      <td>0.942500</td>\n",
       "      <td>0.998490</td>\n",
       "      <td>0.999158</td>\n",
       "      <td>0.999518</td>\n",
       "      <td>0.999825</td>\n",
       "      <td>0.000097</td>\n",
       "      <td>0.101713</td>\n",
       "      <td>0.399321</td>\n",
       "      <td>0.000884</td>\n",
       "      <td>0.001630</td>\n",
       "      <td>0.002580</td>\n",
       "    </tr>\n",
       "    <tr>\n",
       "      <th>3</th>\n",
       "      <td>4</td>\n",
       "      <td>-0.320308</td>\n",
       "      <td>0.586683</td>\n",
       "      <td>0.995349</td>\n",
       "      <td>0.999280</td>\n",
       "      <td>0.999638</td>\n",
       "      <td>0.999847</td>\n",
       "      <td>0.001737</td>\n",
       "      <td>0.781013</td>\n",
       "      <td>3.109771</td>\n",
       "      <td>0.000756</td>\n",
       "      <td>0.001137</td>\n",
       "      <td>0.001523</td>\n",
       "    </tr>\n",
       "  </tbody>\n",
       "</table>\n",
       "</div>"
      ],
      "text/plain": [
       "   degree  r2_test_min  r2_test_mean  r2_test_max  r2_train_min  \\\n",
       "0       1     0.826900      0.900115     0.982046      0.988280   \n",
       "1       2    -1.500049      0.166261     0.979481      0.995527   \n",
       "2       3     0.830461      0.942500     0.998490      0.999158   \n",
       "3       4    -0.320308      0.586683     0.995349      0.999280   \n",
       "\n",
       "   r2_train_mean  r2_train_max  mse_test_min  mse_test_mean  mse_test_max  \\\n",
       "0       0.992057      0.995637      0.004228       0.048378      0.165316   \n",
       "1       0.996938      0.999105      0.014706       0.352449      1.301886   \n",
       "2       0.999518      0.999825      0.000097       0.101713      0.399321   \n",
       "3       0.999638      0.999847      0.001737       0.781013      3.109771   \n",
       "\n",
       "   mse_train_min  mse_train_mean  mse_train_max  \n",
       "0       0.004581        0.036914       0.052376  \n",
       "1       0.000940        0.015635       0.024836  \n",
       "2       0.000884        0.001630       0.002580  \n",
       "3       0.000756        0.001137       0.001523  "
      ]
     },
     "execution_count": 48,
     "metadata": {},
     "output_type": "execute_result"
    }
   ],
   "source": [
    "schwarz_exponential_experiments.results_df"
   ]
  },
  {
   "cell_type": "code",
   "execution_count": 49,
   "metadata": {},
   "outputs": [
    {
     "data": {
      "text/html": [
       "<div>\n",
       "<style scoped>\n",
       "    .dataframe tbody tr th:only-of-type {\n",
       "        vertical-align: middle;\n",
       "    }\n",
       "\n",
       "    .dataframe tbody tr th {\n",
       "        vertical-align: top;\n",
       "    }\n",
       "\n",
       "    .dataframe thead th {\n",
       "        text-align: right;\n",
       "    }\n",
       "</style>\n",
       "<table border=\"1\" class=\"dataframe\">\n",
       "  <thead>\n",
       "    <tr style=\"text-align: right;\">\n",
       "      <th></th>\n",
       "      <th>degree</th>\n",
       "      <th>r2_test_min</th>\n",
       "      <th>r2_test_mean</th>\n",
       "      <th>r2_test_max</th>\n",
       "      <th>r2_train_min</th>\n",
       "      <th>r2_train_mean</th>\n",
       "      <th>r2_train_max</th>\n",
       "      <th>mse_test_min</th>\n",
       "      <th>mse_test_mean</th>\n",
       "      <th>mse_test_max</th>\n",
       "      <th>mse_train_min</th>\n",
       "      <th>mse_train_mean</th>\n",
       "      <th>mse_train_max</th>\n",
       "    </tr>\n",
       "  </thead>\n",
       "  <tbody>\n",
       "    <tr>\n",
       "      <th>0</th>\n",
       "      <td>1</td>\n",
       "      <td>-27.068525</td>\n",
       "      <td>-14.134904</td>\n",
       "      <td>-0.838701</td>\n",
       "      <td>0.045987</td>\n",
       "      <td>0.253799</td>\n",
       "      <td>0.837059</td>\n",
       "      <td>0.024166</td>\n",
       "      <td>0.541090</td>\n",
       "      <td>1.515273</td>\n",
       "      <td>0.017326</td>\n",
       "      <td>0.074559</td>\n",
       "      <td>0.130281</td>\n",
       "    </tr>\n",
       "    <tr>\n",
       "      <th>1</th>\n",
       "      <td>2</td>\n",
       "      <td>0.876702</td>\n",
       "      <td>0.932147</td>\n",
       "      <td>0.987087</td>\n",
       "      <td>0.995038</td>\n",
       "      <td>0.997414</td>\n",
       "      <td>0.999542</td>\n",
       "      <td>0.000170</td>\n",
       "      <td>0.003555</td>\n",
       "      <td>0.011870</td>\n",
       "      <td>0.000036</td>\n",
       "      <td>0.000263</td>\n",
       "      <td>0.000399</td>\n",
       "    </tr>\n",
       "    <tr>\n",
       "      <th>2</th>\n",
       "      <td>3</td>\n",
       "      <td>0.849552</td>\n",
       "      <td>0.915062</td>\n",
       "      <td>0.991236</td>\n",
       "      <td>0.995062</td>\n",
       "      <td>0.997595</td>\n",
       "      <td>0.999544</td>\n",
       "      <td>0.000115</td>\n",
       "      <td>0.005069</td>\n",
       "      <td>0.017672</td>\n",
       "      <td>0.000036</td>\n",
       "      <td>0.000243</td>\n",
       "      <td>0.000394</td>\n",
       "    </tr>\n",
       "    <tr>\n",
       "      <th>3</th>\n",
       "      <td>4</td>\n",
       "      <td>-10.537815</td>\n",
       "      <td>-2.039986</td>\n",
       "      <td>0.979960</td>\n",
       "      <td>0.998272</td>\n",
       "      <td>0.999110</td>\n",
       "      <td>0.999856</td>\n",
       "      <td>0.000263</td>\n",
       "      <td>0.340921</td>\n",
       "      <td>1.355276</td>\n",
       "      <td>0.000015</td>\n",
       "      <td>0.000092</td>\n",
       "      <td>0.000189</td>\n",
       "    </tr>\n",
       "  </tbody>\n",
       "</table>\n",
       "</div>"
      ],
      "text/plain": [
       "   degree  r2_test_min  r2_test_mean  r2_test_max  r2_train_min  \\\n",
       "0       1   -27.068525    -14.134904    -0.838701      0.045987   \n",
       "1       2     0.876702      0.932147     0.987087      0.995038   \n",
       "2       3     0.849552      0.915062     0.991236      0.995062   \n",
       "3       4   -10.537815     -2.039986     0.979960      0.998272   \n",
       "\n",
       "   r2_train_mean  r2_train_max  mse_test_min  mse_test_mean  mse_test_max  \\\n",
       "0       0.253799      0.837059      0.024166       0.541090      1.515273   \n",
       "1       0.997414      0.999542      0.000170       0.003555      0.011870   \n",
       "2       0.997595      0.999544      0.000115       0.005069      0.017672   \n",
       "3       0.999110      0.999856      0.000263       0.340921      1.355276   \n",
       "\n",
       "   mse_train_min  mse_train_mean  mse_train_max  \n",
       "0       0.017326        0.074559       0.130281  \n",
       "1       0.000036        0.000263       0.000399  \n",
       "2       0.000036        0.000243       0.000394  \n",
       "3       0.000015        0.000092       0.000189  "
      ]
     },
     "execution_count": 49,
     "metadata": {},
     "output_type": "execute_result"
    }
   ],
   "source": [
    "gyroid_exponential_experiments.results_df"
   ]
  },
  {
   "cell_type": "code",
   "execution_count": null,
   "metadata": {},
   "outputs": [],
   "source": []
  },
  {
   "cell_type": "code",
   "execution_count": null,
   "metadata": {},
   "outputs": [],
   "source": []
  },
  {
   "cell_type": "code",
   "execution_count": 129,
   "metadata": {},
   "outputs": [
    {
     "name": "stdout",
     "output_type": "stream",
     "text": [
      "[-0.44803945  2.05484216]\n",
      "{'r2_test': 0.9779559409671028, 'r2_train': 0.997402126059657, 'mse_test': 0.17279422973990077, 'mse_train': 0.006549034237939672}\n",
      "7.72 * exp(-0.43x)\n"
     ]
    }
   ],
   "source": [
    "exponential_fit = np.polyfit(data_schwarz['x'].squeeze(), np.log(data_schwarz['y']), 1)\n",
    "print(exponential_fit)\n",
    "\n",
    "exponential_model_schwarz = ExponentialModel(data_schwarz, degree=1)\n",
    "print(exponential_model_schwarz.fit())\n",
    "print(exponential_model_schwarz.return_formula())\n"
   ]
  },
  {
   "cell_type": "code",
   "execution_count": 87,
   "metadata": {},
   "outputs": [
    {
     "name": "stdout",
     "output_type": "stream",
     "text": [
      "[ 0.02566328 -0.45120541  2.04445919]\n"
     ]
    }
   ],
   "source": [
    "#fit the model\n",
    "x = x.squeeze()\n",
    "y_schwarz = entropy_df['Schwarz'].values\n",
    "\n",
    "exponential_fit = np.polyfit(x, np.log(y_schwarz), 2)\n",
    "\n",
    "#view the output of the model\n",
    "print(exponential_fit)"
   ]
  },
  {
   "cell_type": "code",
   "execution_count": 10,
   "metadata": {},
   "outputs": [
    {
     "data": {
      "text/plain": [
       "0.023703962197357497"
      ]
     },
     "execution_count": 10,
     "metadata": {},
     "output_type": "execute_result"
    }
   ],
   "source": [
    "exp_model = np.exp(x**2 * exponential_fit[0] + x * exponential_fit[1] + exponential_fit[2])\n",
    "#np.exp(x**2 * exponential_fit[0] + x * exponential_fit[1] + exponential_fit[2])\n",
    "#np.exp(exponential_fit[0] * x + exponential_fit[1]) \n",
    "mse(y_schwarz, exp_model)"
   ]
  },
  {
   "cell_type": "code",
   "execution_count": 11,
   "metadata": {},
   "outputs": [
    {
     "data": {
      "text/plain": [
       "[<matplotlib.lines.Line2D at 0x302159f50>]"
      ]
     },
     "execution_count": 11,
     "metadata": {},
     "output_type": "execute_result"
    },
    {
     "data": {
      "image/png": "[encoded data removed]",
      "text/plain": [
       "<Figure size 640x480 with 1 Axes>"
      ]
     },
     "metadata": {},
     "output_type": "display_data"
    }
   ],
   "source": [
    "plt.plot(x, exp_model, c='red')\n",
    "plt.plot(x, y_schwarz, c='blue')"
   ]
  },
  {
   "cell_type": "code",
   "execution_count": 12,
   "metadata": {},
   "outputs": [
    {
     "name": "stdout",
     "output_type": "stream",
     "text": [
      "[-1.27552374e-01 -7.93674446e-04  2.17945386e+00]\n"
     ]
    }
   ],
   "source": [
    "y_gyroid = entropy_df['Gyroid'].values\n",
    "\n",
    "exponential_fit = np.polyfit(x, np.log(y_gyroid), 2)\n",
    "print(exponential_fit)"
   ]
  },
  {
   "cell_type": "code",
   "execution_count": 13,
   "metadata": {},
   "outputs": [
    {
     "data": {
      "text/plain": [
       "0.0003326615654946755"
      ]
     },
     "execution_count": 13,
     "metadata": {},
     "output_type": "execute_result"
    }
   ],
   "source": [
    "exp_model = np.exp(x**2 * exponential_fit[0] + x * exponential_fit[1] + exponential_fit[2])\n",
    "#np.exp(x**2 * exponential_fit[0] + x * exponential_fit[1] + exponential_fit[2])\n",
    "#np.exp(exponential_fit[0] * x + exponential_fit[1]) \n",
    "#np.exp(x**2 * exponential_fit[0] + x * exponential_fit[1] + exponential_fit[2])\n",
    "mse(y_gyroid, exp_model)"
   ]
  },
  {
   "cell_type": "code",
   "execution_count": 14,
   "metadata": {},
   "outputs": [
    {
     "data": {
      "text/plain": [
       "[<matplotlib.lines.Line2D at 0x302268910>]"
      ]
     },
     "execution_count": 14,
     "metadata": {},
     "output_type": "execute_result"
    },
    {
     "data": {
      "image/png": "[encoded data removed]",
      "text/plain": [
       "<Figure size 640x480 with 1 Axes>"
      ]
     },
     "metadata": {},
     "output_type": "display_data"
    }
   ],
   "source": [
    "plt.plot(x, exp_model, c='red')\n",
    "plt.plot(x, y_gyroid, c='blue')"
   ]
  }
 ],
 "metadata": {
  "kernelspec": {
   "display_name": "tpms",
   "language": "python",
   "name": "python3"
  },
  "language_info": {
   "codemirror_mode": {
    "name": "ipython",
    "version": 3
   },
   "file_extension": ".py",
   "mimetype": "text/x-python",
   "name": "python",
   "nbconvert_exporter": "python",
   "pygments_lexer": "ipython3",
   "version": "3.11.5"
  }
 },
 "nbformat": 4,
 "nbformat_minor": 2
}
