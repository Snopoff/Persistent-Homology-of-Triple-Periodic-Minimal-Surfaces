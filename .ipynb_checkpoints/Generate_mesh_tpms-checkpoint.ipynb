{
 "cells": [
  {
   "cell_type": "code",
   "execution_count": 102,
   "id": "293151cf",
   "metadata": {},
   "outputs": [
    {
     "ename": "MemoryError",
     "evalue": "Unable to allocate 7.45 GiB for an array with shape (1000, 1000, 1000) and data type float64",
     "output_type": "error",
     "traceback": [
      "\u001b[1;31m---------------------------------------------------------------------------\u001b[0m",
      "\u001b[1;31mMemoryError\u001b[0m                               Traceback (most recent call last)",
      "Cell \u001b[1;32mIn[102], line 40\u001b[0m\n\u001b[0;32m     37\u001b[0m         pointcloud_list\u001b[38;5;241m.\u001b[39mappend(pointcloud)\n\u001b[0;32m     38\u001b[0m     \u001b[38;5;28;01mreturn\u001b[39;00m porosity_list, pointcloud_list\n\u001b[1;32m---> 40\u001b[0m porosity_list_Schwarz_p, pointcloud_list_Schwarz_p \u001b[38;5;241m=\u001b[39m generate_tpms_Schwarz_p(d_param)\n\u001b[0;32m     42\u001b[0m \u001b[38;5;28;01mdef\u001b[39;00m \u001b[38;5;21mgenerate_tpms_Gyroid\u001b[39m(d_param):\n\u001b[0;32m     43\u001b[0m     x,y,z \u001b[38;5;241m=\u001b[39m generate_points(count_pount)\n",
      "Cell \u001b[1;32mIn[102], line 21\u001b[0m, in \u001b[0;36mgenerate_tpms_Schwarz_p\u001b[1;34m(d_param)\u001b[0m\n\u001b[0;32m     20\u001b[0m \u001b[38;5;28;01mdef\u001b[39;00m \u001b[38;5;21mgenerate_tpms_Schwarz_p\u001b[39m(d_param):\n\u001b[1;32m---> 21\u001b[0m     x,y,z \u001b[38;5;241m=\u001b[39m generate_points(count_pount)\n\u001b[0;32m     23\u001b[0m     porosity_list \u001b[38;5;241m=\u001b[39m []\n\u001b[0;32m     24\u001b[0m     pointcloud_list \u001b[38;5;241m=\u001b[39m []\n",
      "Cell \u001b[1;32mIn[102], line 9\u001b[0m, in \u001b[0;36mgenerate_points\u001b[1;34m(count_pount)\u001b[0m\n\u001b[0;32m      7\u001b[0m \u001b[38;5;28;01mdef\u001b[39;00m \u001b[38;5;21mgenerate_points\u001b[39m(count_pount):\n\u001b[0;32m      8\u001b[0m     one_axis \u001b[38;5;241m=\u001b[39m np\u001b[38;5;241m.\u001b[39mlinspace(\u001b[38;5;241m-\u001b[39mnp\u001b[38;5;241m.\u001b[39mpi, np\u001b[38;5;241m.\u001b[39mpi, count_pount)\n\u001b[1;32m----> 9\u001b[0m     xyz_mesh \u001b[38;5;241m=\u001b[39m np\u001b[38;5;241m.\u001b[39mmeshgrid(one_axis, one_axis, one_axis)\n\u001b[0;32m     10\u001b[0m     x,y,z \u001b[38;5;241m=\u001b[39m xyz_mesh\n\u001b[0;32m     11\u001b[0m     \u001b[38;5;28;01mreturn\u001b[39;00m x,y,z\n",
      "File \u001b[1;32m~\\miniconda3\\Lib\\site-packages\\numpy\\lib\\function_base.py:5163\u001b[0m, in \u001b[0;36mmeshgrid\u001b[1;34m(copy, sparse, indexing, *xi)\u001b[0m\n\u001b[0;32m   5160\u001b[0m     output \u001b[38;5;241m=\u001b[39m np\u001b[38;5;241m.\u001b[39mbroadcast_arrays(\u001b[38;5;241m*\u001b[39moutput, subok\u001b[38;5;241m=\u001b[39m\u001b[38;5;28;01mTrue\u001b[39;00m)\n\u001b[0;32m   5162\u001b[0m \u001b[38;5;28;01mif\u001b[39;00m copy:\n\u001b[1;32m-> 5163\u001b[0m     output \u001b[38;5;241m=\u001b[39m [x\u001b[38;5;241m.\u001b[39mcopy() \u001b[38;5;28;01mfor\u001b[39;00m x \u001b[38;5;129;01min\u001b[39;00m output]\n\u001b[0;32m   5165\u001b[0m \u001b[38;5;28;01mreturn\u001b[39;00m output\n",
      "File \u001b[1;32m~\\miniconda3\\Lib\\site-packages\\numpy\\lib\\function_base.py:5163\u001b[0m, in \u001b[0;36m<listcomp>\u001b[1;34m(.0)\u001b[0m\n\u001b[0;32m   5160\u001b[0m     output \u001b[38;5;241m=\u001b[39m np\u001b[38;5;241m.\u001b[39mbroadcast_arrays(\u001b[38;5;241m*\u001b[39moutput, subok\u001b[38;5;241m=\u001b[39m\u001b[38;5;28;01mTrue\u001b[39;00m)\n\u001b[0;32m   5162\u001b[0m \u001b[38;5;28;01mif\u001b[39;00m copy:\n\u001b[1;32m-> 5163\u001b[0m     output \u001b[38;5;241m=\u001b[39m [x\u001b[38;5;241m.\u001b[39mcopy() \u001b[38;5;28;01mfor\u001b[39;00m x \u001b[38;5;129;01min\u001b[39;00m output]\n\u001b[0;32m   5165\u001b[0m \u001b[38;5;28;01mreturn\u001b[39;00m output\n",
      "\u001b[1;31mMemoryError\u001b[0m: Unable to allocate 7.45 GiB for an array with shape (1000, 1000, 1000) and data type float64"
     ]
    }
   ],
   "source": [
    "import numpy as np\n",
    "import matplotlib.pyplot as plt\n",
    "import pyvista as pv\n",
    "\n",
    "count_pount = 1000 # количество генерируемых точек для поверхности. В дальнейшем залаваемый параметр\n",
    "\n",
    "def generate_points(count_pount):\n",
    "    one_axis = np.linspace(-np.pi, np.pi, count_pount)\n",
    "    xyz_mesh = np.meshgrid(one_axis, one_axis, one_axis)\n",
    "    x,y,z = xyz_mesh\n",
    "    return x,y,z\n",
    "    \n",
    "\n",
    "# генерация случайных чисел для парметра d\n",
    "size = 30\n",
    "np.random.seed(1999)\n",
    "d_param = np.random.uniform(low=-0.99, high=0.99, size=size) \n",
    "\n",
    "\n",
    "\n",
    "def generate_tpms_Schwarz_p(d_param):\n",
    "    x,y,z = generate_points(count_pount)\n",
    "    \n",
    "    porosity_list = []\n",
    "    pointcloud_list = []\n",
    "    \n",
    "    for i in range(len(d_param)):\n",
    "        Schwarz_p = np.cos(x) + np.cos(y) + np.cos(z) + d_param[i] #эт формула поверхности Шварца\n",
    "        tolerance = 0.001\n",
    "        x0,y0,z0 = np.where(abs(Schwarz_p)<tolerance)\n",
    "        pointcloud = np.vstack((x0,y0,z0)).T\n",
    "        cube_volume = (np.min(x0) + np.max(x0)) * (np.min(y0) + np.max(y0)) * (np.min(z0) + np.max(z0)) #Объем кубика\n",
    "        cloud = pv.PolyData(pointcloud)\n",
    "        surface = cloud.reconstruct_surface() # Облако точек для расчета объема\n",
    "        surface_volume = surface.volume # Объем поверхности\n",
    "        porosity = (cube_volume-surface_volume)/surface_volume #расчитываем удельную пористость\n",
    "        porosity_list.append(porosity)\n",
    "        pointcloud_list.append(pointcloud)\n",
    "    return porosity_list, pointcloud_list\n",
    "\n",
    "porosity_list_Schwarz_p, pointcloud_list_Schwarz_p = generate_tpms_Schwarz_p(d_param)\n",
    "\n",
    "def generate_tpms_Gyroid(d_param):\n",
    "    x,y,z = generate_points(count_pount)\n",
    "    \n",
    "    porosity_list = []\n",
    "    pointcloud_list = []\n",
    "    for i in range(len(d_param)):\n",
    "        Gyroid = np.cos(x)*np.sin(y) + np.cos(y)*np.sin(z) + np.cos(z)*np.sin(x) + d_param[i] #эт формула поверхности Геройда\n",
    "        tolerance = 0.001\n",
    "        x0,y0,z0 = np.where(abs(Gyroid)<tolerance)\n",
    "        pointcloud = np.vstack((x0,y0,z0)).T\n",
    "        cube_volume = (np.min(x0) + np.max(x0)) * (np.min(y0) + np.max(y0)) * (np.min(z0) + np.max(z0)) #Объем кубика\n",
    "        cloud = pv.PolyData(pointcloud)\n",
    "        surface = cloud.reconstruct_surface() # Облако точек для расчета объема\n",
    "        surface_volume = surface.volume # Объем поверхности\n",
    "        porosity = (cube_volume-surface_volume)/surface_volume #расчитываем удельную пористость\n",
    "        porosity_list.append(porosity)\n",
    "        pointcloud_list.append(pointcloud)\n",
    "    return porosity_list, pointcloud_list\n",
    "\n",
    "porosity_list_Gyroid, pointcloud_list_Gyroid = generate_tpms_Schwarz_p(d_param)"
   ]
  }
 ],
 "metadata": {
  "kernelspec": {
   "display_name": "Python 3 (ipykernel)",
   "language": "python",
   "name": "python3"
  },
  "language_info": {
   "codemirror_mode": {
    "name": "ipython",
    "version": 3
   },
   "file_extension": ".py",
   "mimetype": "text/x-python",
   "name": "python",
   "nbconvert_exporter": "python",
   "pygments_lexer": "ipython3",
   "version": "3.11.4"
  }
 },
 "nbformat": 4,
 "nbformat_minor": 5
}
